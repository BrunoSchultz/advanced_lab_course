{
 "cells": [
  {
   "cell_type": "code",
   "execution_count": 1,
   "id": "664a379e",
   "metadata": {},
   "outputs": [],
   "source": [
    "import numpy as np\n",
    "import pandas as pd\n",
    "import matplotlib.pyplot as plt\n",
    "from scipy.ndimage import gaussian_filter1d\n",
    "from scipy.signal import find_peaks"
   ]
  },
  {
   "cell_type": "markdown",
   "id": "da1ebb75",
   "metadata": {},
   "source": [
    "Load Data (probably will need to be changed)"
   ]
  },
  {
   "cell_type": "code",
   "execution_count": null,
   "id": "6733db37",
   "metadata": {},
   "outputs": [],
   "source": [
    "\n",
    "# Load data\n",
    "def load_spectrum(filename):\n",
    "    df = pd.read_csv(filename)\n",
    "    # accept basic column names\n",
    "    if 'channel' not in df.columns:\n",
    "        df.columns = ['channel', 'counts']\n",
    "    return df['channel'].values.astype(int), df['counts'].values.astype(float)\n",
    "\n",
    "ch_self, n_self = load_spectrum('self_gate.csv')\n",
    "ch_sca, n_sca   = load_spectrum('sca_gate.csv')"
   ]
  },
  {
   "cell_type": "markdown",
   "id": "fe3730b5",
   "metadata": {},
   "source": [
    "Set SCA-Threshhold: "
   ]
  },
  {
   "cell_type": "code",
   "execution_count": null,
   "id": "8ef76c2d",
   "metadata": {},
   "outputs": [],
   "source": [
    "\n",
    "channels = ch_self\n",
    "# Basic smoothing for peak finding\n",
    "smooth_sigma = 2.0\n",
    "n_self_s = gaussian_filter1d(n_self, smooth_sigma)\n",
    "n_sca_s  = gaussian_filter1d(n_sca, smooth_sigma)\n",
    "\n",
    "# Compute sensitivity and errors \n",
    "\n",
    "with np.errstate(divide='ignore', invalid='ignore'):\n",
    "    eta = np.where(n_self > 0, n_sca / n_self, np.nan)\n",
    "\n",
    "# Poisson errors: sigma_N = sqrt(N)\n",
    "sigma_self = np.sqrt(n_self)\n",
    "sigma_sca  = np.sqrt(n_sca)\n",
    "\n",
    "# Propagation for ratio eta = N_sca / N_self\n",
    "sigma_eta = np.full_like(eta, np.nan)\n",
    "valid = (n_self > 0) & (n_sca >= 0)\n",
    "sigma_eta[valid] = eta[valid] * np.sqrt( (sigma_sca[valid]/(n_sca[valid] + 1e-12))**2\n",
    "                                       + (sigma_self[valid]/(n_self[valid] + 1e-12))**2 )\n",
    "\n",
    "# Find photopeak region in self-gated spectrum\n",
    "# Use peak finding to get candidate peak centers (you may need to tweak height, distance)\n",
    "peaks, _ = find_peaks(n_self_s, height=np.max(n_self_s)*0.05, distance=20)\n",
    "print(\"Detected peak channels (candidates):\", channels[peaks])\n",
    "\n",
    "# If the two 60Co peaks are expected, pick the two highest peaks\n",
    "peak_heights = n_self_s[peaks]\n",
    "top2_idx = np.argsort(peak_heights)[-2:]\n",
    "peak_channels = np.sort(channels[peaks][top2_idx])\n",
    "print(\"Top two peaks (assumed photopeaks):\", peak_channels)\n",
    "\n",
    "window_width = 200\n",
    "\n",
    "# Half-height threshold finder \n",
    "def half_height_thresholds(chan, ref_counts, gated_counts, peak_channel, window_width=200):\n",
    "    # 1. define range around peak\n",
    "    mask = (chan >= peak_channel - window_width) & (chan <= peak_channel + window_width)\n",
    "    c = chan[mask]; ref = ref_counts[mask]; gate = gated_counts[mask]\n",
    "    # 2. find the channel where gate reaches half of reference's 'plateau'\n",
    "    # approximate plateau/reference level as local max near peak\n",
    "    peak_idx = np.argmax(ref)\n",
    "    Nref = ref[peak_idx]\n",
    "    half = 0.5 * Nref\n",
    "    # find lower threshold: first channel left of peak where gate <= half (crossing)\n",
    "    left_region = np.where(c <= c[peak_idx])[0]\n",
    "    right_region = np.where(c >= c[peak_idx])[0]\n",
    "    # find crossing left-to-right for lower threshold\n",
    "    lower_candidates = left_region[np.where(gate[left_region] <= half)[0]]\n",
    "    if lower_candidates.size == 0:\n",
    "        lower = c[0]\n",
    "    else:\n",
    "        lower = c[lower_candidates[-1]]  # nearest to the peak from the left\n",
    "    # find upper threshold: first channel right of peak where gate <= half\n",
    "    upper_candidates = right_region[np.where(gate[right_region] <= half)[0]]\n",
    "    if upper_candidates.size == 0:\n",
    "        upper = c[-1]\n",
    "    else:\n",
    "        upper = c[upper_candidates[0]]\n",
    "    return int(lower), int(upper), int(Nref)\n",
    "\n",
    "#  combine both peaks into one window (Option A\n",
    "lower1, upper1, Nref1 = half_height_thresholds(channels, n_self, n_sca, peak_channels[0], window_width)\n",
    "lower2, upper2, Nref2 = half_height_thresholds(channels, n_self, n_sca, peak_channels[1], window_width)\n",
    "print(f\"Peak1: lower={lower1}, upper={upper1}, Nref={Nref1}\")\n",
    "print(f\"Peak2: lower={lower2}, upper={upper2}, Nref={Nref2}\")\n",
    "\n",
    "#  SCA window covering both peaks\n",
    "combined_lower = min(lower1, lower2)\n",
    "combined_upper = max(upper1, upper2)\n",
    "print(f\"Combined SCA window (covers both peaks): [{combined_lower}, {combined_upper}]\")\n"
   ]
  },
  {
   "cell_type": "code",
   "execution_count": null,
   "id": "6ce443a0",
   "metadata": {},
   "outputs": [],
   "source": [
    "#  Plots \n",
    "plt.figure(figsize=(9,5))\n",
    "plt.step(channels, n_self, where='mid', label='Self-gated spectrum')\n",
    "plt.step(channels, n_sca, where='mid', label='SCA-gated spectrum')\n",
    "plt.axvspan(combined_lower, combined_upper, alpha=0.2, label='SCA window (combined)')\n",
    "plt.xlabel('Channel'); plt.ylabel('Counts'); plt.legend()\n",
    "plt.title('MCA Spectra')\n",
    "plt.savefig('spectra.png', dpi=150)\n",
    "plt.close()\n",
    "\n",
    "plt.figure(figsize=(9,5))\n",
    "plt.errorbar(channels, eta, yerr=sigma_eta, fmt='.', markersize=3, label='Sensitivity')\n",
    "plt.ylim(-0.1, 1.3)\n",
    "plt.xlabel('Channel'); plt.ylabel('Sensitivity $\\eta$')\n",
    "plt.title('SCA Sensitivity per Channel')\n",
    "plt.axvspan(combined_lower, combined_upper, alpha=0.15)"
   ]
  }
 ],
 "metadata": {
  "kernelspec": {
   "display_name": "base",
   "language": "python",
   "name": "python3"
  },
  "language_info": {
   "codemirror_mode": {
    "name": "ipython",
    "version": 3
   },
   "file_extension": ".py",
   "mimetype": "text/x-python",
   "name": "python",
   "nbconvert_exporter": "python",
   "pygments_lexer": "ipython3",
   "version": "3.11.7"
  }
 },
 "nbformat": 4,
 "nbformat_minor": 5
}
